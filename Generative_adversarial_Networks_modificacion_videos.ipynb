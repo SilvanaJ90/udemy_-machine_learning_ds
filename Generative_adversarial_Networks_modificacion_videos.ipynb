{
  "nbformat": 4,
  "nbformat_minor": 0,
  "metadata": {
    "colab": {
      "provenance": [],
      "gpuType": "T4",
      "include_colab_link": true
    },
    "kernelspec": {
      "name": "python3",
      "display_name": "Python 3"
    },
    "language_info": {
      "name": "python"
    },
    "accelerator": "GPU"
  },
  "cells": [
    {
      "cell_type": "markdown",
      "metadata": {
        "id": "view-in-github",
        "colab_type": "text"
      },
      "source": [
        "<a href=\"https://colab.research.google.com/github/SilvanaJ90/udemy_-machine_learning_ds/blob/main/Generative_adversarial_Networks_modificacion_videos.ipynb\" target=\"_parent\"><img src=\"https://colab.research.google.com/assets/colab-badge.svg\" alt=\"Open In Colab\"/></a>"
      ]
    },
    {
      "cell_type": "code",
      "source": [
        "from google.colab import drive\n",
        "drive.mount('/content/drive')"
      ],
      "metadata": {
        "id": "uu4wdl3O6_Mk",
        "outputId": "f88fa1fb-3252-40c9-b748-8fe5cb5d8664",
        "colab": {
          "base_uri": "https://localhost:8080/"
        }
      },
      "execution_count": 2,
      "outputs": [
        {
          "output_type": "stream",
          "name": "stdout",
          "text": [
            "Drive already mounted at /content/drive; to attempt to forcibly remount, call drive.mount(\"/content/drive\", force_remount=True).\n"
          ]
        }
      ]
    },
    {
      "cell_type": "markdown",
      "metadata": {
        "id": "3cb7b12c"
      },
      "source": [
        "# Modificación de vídeos (cambio de cara) utilizando Generative Adversarial Networks"
      ]
    },
    {
      "cell_type": "markdown",
      "metadata": {
        "id": "42e9ea52"
      },
      "source": [
        "<div style=\"background-color:#D9EEFF;color:black;padding:2%;\">\n",
        "<h2>Enunciado del caso práctico</h2>\n",
        "\n",
        "En este caso práctico, se propone al alumno el uso de Generative Adversarial Networks (GANs) para modificar un vídeo e intercambiar la cara de una persona.\n",
        "\n",
        "Para este caso concreto se prompone el uso de un técnica/arquitectura de Generative Adversarial Network conocida como [StyleGan2](https://github.com/NVlabs/stylegan2) y más concretamente un desarrollo influenciado por esta Red Neuronal Artificial Profunda que se denomina [Stitch in Time](https://stitch-time.github.io/).\n",
        "\n",
        "</div>"
      ]
    },
    {
      "cell_type": "markdown",
      "source": [
        "## Contexto adicional sobre Generative Adversarial Networks\n",
        "\n",
        "Desde el año en el que surgieron este tipo de Redes Neuronales Artificiales Profundas no han parado de publicarse [aplicaciones muy interesantes y modificaciones de su arquitectura inicial](https://arxiv.org/abs/2008.02793).\n",
        "\n",
        "En términos generales, podríamos clasificar las GANs en varias categorías:\n",
        "\n",
        "**1. GANs no condicionales y condicionales**\n",
        "\n",
        "* **No condicionales**: El generador convierte una entrada de ruido en una imagen falsa, y el discriminador diferencia entre imágenes reales e imágenes falsas. No hay señales de control adicionales para guiar el proceso de generación. Un ejemplo muy interesante es: https://thispersondoesnotexist.com/\n",
        "\n",
        "* **Condicionales**: El generador recibe una señal de control adicional como entrada, que podría ser otra imagen, texto o una etiqueta categórica. El objetivo del generador es producir salidas que correspondan a la señal de control proporcionada. Por ejemplo, si la señal de control es una etiqueta de categoría, el generador debería producir una imagen que pertenezca a esa categoría específica. El discriminador también tiene en cuenta la señal de control para diferenciar entre imágenes reales e imágenes generadas.\n",
        "\n",
        "**2. Tipos de GANs Basados en su Arquitectura**\n",
        "\n",
        "* **GAN Original**: Introducido por Goodfellow et al., establece la estructura básica de las GANs.\n",
        "* **DCGAN (Deep Convolutional GAN)**: Introduce capas convolucionales en las GANs para mejorar la calidad de las imágenes generadas.\n",
        "* **CoGAN (Coupled GANs)**: Utiliza múltiples GANs entrenadas juntas para mejorar la generación de imágenes.\n",
        "* **PgGAN (Progressive Growing GAN)**: Aumenta progresivamente la resolución de las imágenes generadas durante el entrenamiento para mejorar la calidad.\n",
        "* **StyleGAN**: Introduce un enfoque basado en estilos para la generación de imágenes, permitiendo un control más fino sobre las características generadas.\n",
        "\n",
        "**3. Aplicaciones de las GANs**\n",
        "* **Síntesis Semántica de Imágenes**: Conversión de representaciones semánticas editables por humanos a imágenes fotorrealistas.\n",
        "* **Traducción de Imágenes**: Traducción de imágenes de un dominio a otro.\n",
        "* **Restauración de Imágenes, Superresolución e Inpainting**: Transformación de distribuciones de imágenes para mejorar la calidad visual.\n",
        "* **Síntesis de Video**: Generación y manipulación de videos.\n",
        "* **Renderizado Neural**: Uso de redes neuronales para mejorar los procesos de renderizado gráfico.\n",
        "\n"
      ],
      "metadata": {
        "id": "0NPiLzG8O6ai"
      }
    },
    {
      "cell_type": "markdown",
      "metadata": {
        "id": "831d29b1"
      },
      "source": [
        "# Resolución del caso práctico"
      ]
    },
    {
      "cell_type": "markdown",
      "source": [
        "## 0. Instalación de librerías externas"
      ],
      "metadata": {
        "id": "-V8dgd_BUeOK"
      }
    },
    {
      "cell_type": "markdown",
      "source": [
        "Lo primero que vamos a necesitar para resolver este caso práctico es descargar la Generative Adversarial Network del repositorio de Github: https://github.com/rotemtzaban/STIT y subir este repositorio a Google Drive después de aplicarle algunas configuraciones."
      ],
      "metadata": {
        "id": "Hdr-kpxER9bR"
      }
    },
    {
      "cell_type": "code",
      "source": [
        "!pip install -r /content/drive/MyDrive/dataset/STIT/requirements.txt\n",
        "!pip install git+https://github.com/openai/CLIP.git"
      ],
      "metadata": {
        "id": "ScQcgtCkUhD7",
        "outputId": "6b1e6261-6bb3-4122-f34b-60e22f952755",
        "colab": {
          "base_uri": "https://localhost:8080/"
        }
      },
      "execution_count": 18,
      "outputs": [
        {
          "output_type": "stream",
          "name": "stdout",
          "text": [
            "Requirement already satisfied: pillow>=9.0.1 in /usr/local/lib/python3.10/dist-packages (from -r /content/drive/MyDrive/dataset/STIT/requirements.txt (line 1)) (9.4.0)\n",
            "Requirement already satisfied: dlib>=19.22.1 in /usr/local/lib/python3.10/dist-packages (from -r /content/drive/MyDrive/dataset/STIT/requirements.txt (line 2)) (19.24.4)\n",
            "Requirement already satisfied: numpy>=1.20.3 in /usr/local/lib/python3.10/dist-packages (from -r /content/drive/MyDrive/dataset/STIT/requirements.txt (line 3)) (1.25.2)\n",
            "Requirement already satisfied: scipy>=1.7.1 in /usr/local/lib/python3.10/dist-packages (from -r /content/drive/MyDrive/dataset/STIT/requirements.txt (line 4)) (1.11.4)\n",
            "Requirement already satisfied: scikit-image>=0.18.3 in /usr/local/lib/python3.10/dist-packages (from -r /content/drive/MyDrive/dataset/STIT/requirements.txt (line 5)) (0.19.3)\n",
            "Requirement already satisfied: tqdm>=4.62.3 in /usr/local/lib/python3.10/dist-packages (from -r /content/drive/MyDrive/dataset/STIT/requirements.txt (line 6)) (4.66.4)\n",
            "Requirement already satisfied: wandb>=0.12.9 in /usr/local/lib/python3.10/dist-packages (from -r /content/drive/MyDrive/dataset/STIT/requirements.txt (line 7)) (0.17.2)\n",
            "Requirement already satisfied: matplotlib>=3.4.3 in /usr/local/lib/python3.10/dist-packages (from -r /content/drive/MyDrive/dataset/STIT/requirements.txt (line 8)) (3.7.1)\n",
            "Requirement already satisfied: opencv-python>=4.5.4.60 in /usr/local/lib/python3.10/dist-packages (from -r /content/drive/MyDrive/dataset/STIT/requirements.txt (line 9)) (4.8.0.76)\n",
            "Requirement already satisfied: requests>=2.26.0 in /usr/local/lib/python3.10/dist-packages (from -r /content/drive/MyDrive/dataset/STIT/requirements.txt (line 10)) (2.31.0)\n",
            "Requirement already satisfied: click>=8.0.3 in /usr/local/lib/python3.10/dist-packages (from -r /content/drive/MyDrive/dataset/STIT/requirements.txt (line 11)) (8.1.7)\n",
            "Requirement already satisfied: lpips>=0.1.4 in /usr/local/lib/python3.10/dist-packages (from -r /content/drive/MyDrive/dataset/STIT/requirements.txt (line 12)) (0.1.4)\n",
            "Requirement already satisfied: imageio>=2.14.1 in /usr/local/lib/python3.10/dist-packages (from -r /content/drive/MyDrive/dataset/STIT/requirements.txt (line 13)) (2.31.6)\n",
            "Requirement already satisfied: imageio-ffmpeg>=0.4.5 in /usr/local/lib/python3.10/dist-packages (from -r /content/drive/MyDrive/dataset/STIT/requirements.txt (line 14)) (0.5.1)\n",
            "Requirement already satisfied: face-alignment>=1.3.5 in /usr/local/lib/python3.10/dist-packages (from -r /content/drive/MyDrive/dataset/STIT/requirements.txt (line 15)) (1.4.1)\n",
            "Requirement already satisfied: ninja in /usr/local/lib/python3.10/dist-packages (from -r /content/drive/MyDrive/dataset/STIT/requirements.txt (line 16)) (1.11.1.1)\n",
            "Requirement already satisfied: networkx>=2.2 in /usr/local/lib/python3.10/dist-packages (from scikit-image>=0.18.3->-r /content/drive/MyDrive/dataset/STIT/requirements.txt (line 5)) (3.3)\n",
            "Requirement already satisfied: tifffile>=2019.7.26 in /usr/local/lib/python3.10/dist-packages (from scikit-image>=0.18.3->-r /content/drive/MyDrive/dataset/STIT/requirements.txt (line 5)) (2024.5.22)\n",
            "Requirement already satisfied: PyWavelets>=1.1.1 in /usr/local/lib/python3.10/dist-packages (from scikit-image>=0.18.3->-r /content/drive/MyDrive/dataset/STIT/requirements.txt (line 5)) (1.6.0)\n",
            "Requirement already satisfied: packaging>=20.0 in /usr/local/lib/python3.10/dist-packages (from scikit-image>=0.18.3->-r /content/drive/MyDrive/dataset/STIT/requirements.txt (line 5)) (24.1)\n",
            "Requirement already satisfied: docker-pycreds>=0.4.0 in /usr/local/lib/python3.10/dist-packages (from wandb>=0.12.9->-r /content/drive/MyDrive/dataset/STIT/requirements.txt (line 7)) (0.4.0)\n",
            "Requirement already satisfied: gitpython!=3.1.29,>=1.0.0 in /usr/local/lib/python3.10/dist-packages (from wandb>=0.12.9->-r /content/drive/MyDrive/dataset/STIT/requirements.txt (line 7)) (3.1.43)\n",
            "Requirement already satisfied: platformdirs in /usr/local/lib/python3.10/dist-packages (from wandb>=0.12.9->-r /content/drive/MyDrive/dataset/STIT/requirements.txt (line 7)) (4.2.2)\n",
            "Requirement already satisfied: protobuf!=4.21.0,<6,>=3.19.0 in /usr/local/lib/python3.10/dist-packages (from wandb>=0.12.9->-r /content/drive/MyDrive/dataset/STIT/requirements.txt (line 7)) (3.20.3)\n",
            "Requirement already satisfied: psutil>=5.0.0 in /usr/local/lib/python3.10/dist-packages (from wandb>=0.12.9->-r /content/drive/MyDrive/dataset/STIT/requirements.txt (line 7)) (5.9.5)\n",
            "Requirement already satisfied: pyyaml in /usr/local/lib/python3.10/dist-packages (from wandb>=0.12.9->-r /content/drive/MyDrive/dataset/STIT/requirements.txt (line 7)) (6.0.1)\n",
            "Requirement already satisfied: sentry-sdk>=1.0.0 in /usr/local/lib/python3.10/dist-packages (from wandb>=0.12.9->-r /content/drive/MyDrive/dataset/STIT/requirements.txt (line 7)) (2.6.0)\n",
            "Requirement already satisfied: setproctitle in /usr/local/lib/python3.10/dist-packages (from wandb>=0.12.9->-r /content/drive/MyDrive/dataset/STIT/requirements.txt (line 7)) (1.3.3)\n",
            "Requirement already satisfied: setuptools in /usr/local/lib/python3.10/dist-packages (from wandb>=0.12.9->-r /content/drive/MyDrive/dataset/STIT/requirements.txt (line 7)) (67.7.2)\n",
            "Requirement already satisfied: contourpy>=1.0.1 in /usr/local/lib/python3.10/dist-packages (from matplotlib>=3.4.3->-r /content/drive/MyDrive/dataset/STIT/requirements.txt (line 8)) (1.2.1)\n",
            "Requirement already satisfied: cycler>=0.10 in /usr/local/lib/python3.10/dist-packages (from matplotlib>=3.4.3->-r /content/drive/MyDrive/dataset/STIT/requirements.txt (line 8)) (0.12.1)\n",
            "Requirement already satisfied: fonttools>=4.22.0 in /usr/local/lib/python3.10/dist-packages (from matplotlib>=3.4.3->-r /content/drive/MyDrive/dataset/STIT/requirements.txt (line 8)) (4.53.0)\n",
            "Requirement already satisfied: kiwisolver>=1.0.1 in /usr/local/lib/python3.10/dist-packages (from matplotlib>=3.4.3->-r /content/drive/MyDrive/dataset/STIT/requirements.txt (line 8)) (1.4.5)\n",
            "Requirement already satisfied: pyparsing>=2.3.1 in /usr/local/lib/python3.10/dist-packages (from matplotlib>=3.4.3->-r /content/drive/MyDrive/dataset/STIT/requirements.txt (line 8)) (3.1.2)\n",
            "Requirement already satisfied: python-dateutil>=2.7 in /usr/local/lib/python3.10/dist-packages (from matplotlib>=3.4.3->-r /content/drive/MyDrive/dataset/STIT/requirements.txt (line 8)) (2.8.2)\n",
            "Requirement already satisfied: charset-normalizer<4,>=2 in /usr/local/lib/python3.10/dist-packages (from requests>=2.26.0->-r /content/drive/MyDrive/dataset/STIT/requirements.txt (line 10)) (3.3.2)\n",
            "Requirement already satisfied: idna<4,>=2.5 in /usr/local/lib/python3.10/dist-packages (from requests>=2.26.0->-r /content/drive/MyDrive/dataset/STIT/requirements.txt (line 10)) (3.7)\n",
            "Requirement already satisfied: urllib3<3,>=1.21.1 in /usr/local/lib/python3.10/dist-packages (from requests>=2.26.0->-r /content/drive/MyDrive/dataset/STIT/requirements.txt (line 10)) (2.0.7)\n",
            "Requirement already satisfied: certifi>=2017.4.17 in /usr/local/lib/python3.10/dist-packages (from requests>=2.26.0->-r /content/drive/MyDrive/dataset/STIT/requirements.txt (line 10)) (2024.6.2)\n",
            "Requirement already satisfied: torch>=0.4.0 in /usr/local/lib/python3.10/dist-packages (from lpips>=0.1.4->-r /content/drive/MyDrive/dataset/STIT/requirements.txt (line 12)) (2.3.0+cu121)\n",
            "Requirement already satisfied: torchvision>=0.2.1 in /usr/local/lib/python3.10/dist-packages (from lpips>=0.1.4->-r /content/drive/MyDrive/dataset/STIT/requirements.txt (line 12)) (0.18.0+cu121)\n",
            "Requirement already satisfied: numba in /usr/local/lib/python3.10/dist-packages (from face-alignment>=1.3.5->-r /content/drive/MyDrive/dataset/STIT/requirements.txt (line 15)) (0.58.1)\n",
            "Requirement already satisfied: six>=1.4.0 in /usr/local/lib/python3.10/dist-packages (from docker-pycreds>=0.4.0->wandb>=0.12.9->-r /content/drive/MyDrive/dataset/STIT/requirements.txt (line 7)) (1.16.0)\n",
            "Requirement already satisfied: gitdb<5,>=4.0.1 in /usr/local/lib/python3.10/dist-packages (from gitpython!=3.1.29,>=1.0.0->wandb>=0.12.9->-r /content/drive/MyDrive/dataset/STIT/requirements.txt (line 7)) (4.0.11)\n",
            "Requirement already satisfied: filelock in /usr/local/lib/python3.10/dist-packages (from torch>=0.4.0->lpips>=0.1.4->-r /content/drive/MyDrive/dataset/STIT/requirements.txt (line 12)) (3.14.0)\n",
            "Requirement already satisfied: typing-extensions>=4.8.0 in /usr/local/lib/python3.10/dist-packages (from torch>=0.4.0->lpips>=0.1.4->-r /content/drive/MyDrive/dataset/STIT/requirements.txt (line 12)) (4.12.2)\n",
            "Requirement already satisfied: sympy in /usr/local/lib/python3.10/dist-packages (from torch>=0.4.0->lpips>=0.1.4->-r /content/drive/MyDrive/dataset/STIT/requirements.txt (line 12)) (1.12.1)\n",
            "Requirement already satisfied: jinja2 in /usr/local/lib/python3.10/dist-packages (from torch>=0.4.0->lpips>=0.1.4->-r /content/drive/MyDrive/dataset/STIT/requirements.txt (line 12)) (3.1.4)\n",
            "Requirement already satisfied: fsspec in /usr/local/lib/python3.10/dist-packages (from torch>=0.4.0->lpips>=0.1.4->-r /content/drive/MyDrive/dataset/STIT/requirements.txt (line 12)) (2023.6.0)\n",
            "Requirement already satisfied: nvidia-cuda-nvrtc-cu12==12.1.105 in /usr/local/lib/python3.10/dist-packages (from torch>=0.4.0->lpips>=0.1.4->-r /content/drive/MyDrive/dataset/STIT/requirements.txt (line 12)) (12.1.105)\n",
            "Requirement already satisfied: nvidia-cuda-runtime-cu12==12.1.105 in /usr/local/lib/python3.10/dist-packages (from torch>=0.4.0->lpips>=0.1.4->-r /content/drive/MyDrive/dataset/STIT/requirements.txt (line 12)) (12.1.105)\n",
            "Requirement already satisfied: nvidia-cuda-cupti-cu12==12.1.105 in /usr/local/lib/python3.10/dist-packages (from torch>=0.4.0->lpips>=0.1.4->-r /content/drive/MyDrive/dataset/STIT/requirements.txt (line 12)) (12.1.105)\n",
            "Requirement already satisfied: nvidia-cudnn-cu12==8.9.2.26 in /usr/local/lib/python3.10/dist-packages (from torch>=0.4.0->lpips>=0.1.4->-r /content/drive/MyDrive/dataset/STIT/requirements.txt (line 12)) (8.9.2.26)\n",
            "Requirement already satisfied: nvidia-cublas-cu12==12.1.3.1 in /usr/local/lib/python3.10/dist-packages (from torch>=0.4.0->lpips>=0.1.4->-r /content/drive/MyDrive/dataset/STIT/requirements.txt (line 12)) (12.1.3.1)\n",
            "Requirement already satisfied: nvidia-cufft-cu12==11.0.2.54 in /usr/local/lib/python3.10/dist-packages (from torch>=0.4.0->lpips>=0.1.4->-r /content/drive/MyDrive/dataset/STIT/requirements.txt (line 12)) (11.0.2.54)\n",
            "Requirement already satisfied: nvidia-curand-cu12==10.3.2.106 in /usr/local/lib/python3.10/dist-packages (from torch>=0.4.0->lpips>=0.1.4->-r /content/drive/MyDrive/dataset/STIT/requirements.txt (line 12)) (10.3.2.106)\n",
            "Requirement already satisfied: nvidia-cusolver-cu12==11.4.5.107 in /usr/local/lib/python3.10/dist-packages (from torch>=0.4.0->lpips>=0.1.4->-r /content/drive/MyDrive/dataset/STIT/requirements.txt (line 12)) (11.4.5.107)\n",
            "Requirement already satisfied: nvidia-cusparse-cu12==12.1.0.106 in /usr/local/lib/python3.10/dist-packages (from torch>=0.4.0->lpips>=0.1.4->-r /content/drive/MyDrive/dataset/STIT/requirements.txt (line 12)) (12.1.0.106)\n",
            "Requirement already satisfied: nvidia-nccl-cu12==2.20.5 in /usr/local/lib/python3.10/dist-packages (from torch>=0.4.0->lpips>=0.1.4->-r /content/drive/MyDrive/dataset/STIT/requirements.txt (line 12)) (2.20.5)\n",
            "Requirement already satisfied: nvidia-nvtx-cu12==12.1.105 in /usr/local/lib/python3.10/dist-packages (from torch>=0.4.0->lpips>=0.1.4->-r /content/drive/MyDrive/dataset/STIT/requirements.txt (line 12)) (12.1.105)\n",
            "Requirement already satisfied: triton==2.3.0 in /usr/local/lib/python3.10/dist-packages (from torch>=0.4.0->lpips>=0.1.4->-r /content/drive/MyDrive/dataset/STIT/requirements.txt (line 12)) (2.3.0)\n",
            "Requirement already satisfied: nvidia-nvjitlink-cu12 in /usr/local/lib/python3.10/dist-packages (from nvidia-cusolver-cu12==11.4.5.107->torch>=0.4.0->lpips>=0.1.4->-r /content/drive/MyDrive/dataset/STIT/requirements.txt (line 12)) (12.5.40)\n",
            "Requirement already satisfied: llvmlite<0.42,>=0.41.0dev0 in /usr/local/lib/python3.10/dist-packages (from numba->face-alignment>=1.3.5->-r /content/drive/MyDrive/dataset/STIT/requirements.txt (line 15)) (0.41.1)\n",
            "Requirement already satisfied: smmap<6,>=3.0.1 in /usr/local/lib/python3.10/dist-packages (from gitdb<5,>=4.0.1->gitpython!=3.1.29,>=1.0.0->wandb>=0.12.9->-r /content/drive/MyDrive/dataset/STIT/requirements.txt (line 7)) (5.0.1)\n",
            "Requirement already satisfied: MarkupSafe>=2.0 in /usr/local/lib/python3.10/dist-packages (from jinja2->torch>=0.4.0->lpips>=0.1.4->-r /content/drive/MyDrive/dataset/STIT/requirements.txt (line 12)) (2.1.5)\n",
            "Requirement already satisfied: mpmath<1.4.0,>=1.1.0 in /usr/local/lib/python3.10/dist-packages (from sympy->torch>=0.4.0->lpips>=0.1.4->-r /content/drive/MyDrive/dataset/STIT/requirements.txt (line 12)) (1.3.0)\n",
            "Collecting git+https://github.com/openai/CLIP.git\n",
            "  Cloning https://github.com/openai/CLIP.git to /tmp/pip-req-build-rdr92y3h\n",
            "  Running command git clone --filter=blob:none --quiet https://github.com/openai/CLIP.git /tmp/pip-req-build-rdr92y3h\n",
            "  Resolved https://github.com/openai/CLIP.git to commit dcba3cb2e2827b402d2701e7e1c7d9fed8a20ef1\n",
            "  Preparing metadata (setup.py) ... \u001b[?25l\u001b[?25hdone\n",
            "Requirement already satisfied: ftfy in /usr/local/lib/python3.10/dist-packages (from clip==1.0) (6.2.0)\n",
            "Requirement already satisfied: packaging in /usr/local/lib/python3.10/dist-packages (from clip==1.0) (24.1)\n",
            "Requirement already satisfied: regex in /usr/local/lib/python3.10/dist-packages (from clip==1.0) (2024.5.15)\n",
            "Requirement already satisfied: tqdm in /usr/local/lib/python3.10/dist-packages (from clip==1.0) (4.66.4)\n",
            "Requirement already satisfied: torch in /usr/local/lib/python3.10/dist-packages (from clip==1.0) (2.3.0+cu121)\n",
            "Requirement already satisfied: torchvision in /usr/local/lib/python3.10/dist-packages (from clip==1.0) (0.18.0+cu121)\n",
            "Requirement already satisfied: wcwidth<0.3.0,>=0.2.12 in /usr/local/lib/python3.10/dist-packages (from ftfy->clip==1.0) (0.2.13)\n",
            "Requirement already satisfied: filelock in /usr/local/lib/python3.10/dist-packages (from torch->clip==1.0) (3.14.0)\n",
            "Requirement already satisfied: typing-extensions>=4.8.0 in /usr/local/lib/python3.10/dist-packages (from torch->clip==1.0) (4.12.2)\n",
            "Requirement already satisfied: sympy in /usr/local/lib/python3.10/dist-packages (from torch->clip==1.0) (1.12.1)\n",
            "Requirement already satisfied: networkx in /usr/local/lib/python3.10/dist-packages (from torch->clip==1.0) (3.3)\n",
            "Requirement already satisfied: jinja2 in /usr/local/lib/python3.10/dist-packages (from torch->clip==1.0) (3.1.4)\n",
            "Requirement already satisfied: fsspec in /usr/local/lib/python3.10/dist-packages (from torch->clip==1.0) (2023.6.0)\n",
            "Requirement already satisfied: nvidia-cuda-nvrtc-cu12==12.1.105 in /usr/local/lib/python3.10/dist-packages (from torch->clip==1.0) (12.1.105)\n",
            "Requirement already satisfied: nvidia-cuda-runtime-cu12==12.1.105 in /usr/local/lib/python3.10/dist-packages (from torch->clip==1.0) (12.1.105)\n",
            "Requirement already satisfied: nvidia-cuda-cupti-cu12==12.1.105 in /usr/local/lib/python3.10/dist-packages (from torch->clip==1.0) (12.1.105)\n",
            "Requirement already satisfied: nvidia-cudnn-cu12==8.9.2.26 in /usr/local/lib/python3.10/dist-packages (from torch->clip==1.0) (8.9.2.26)\n",
            "Requirement already satisfied: nvidia-cublas-cu12==12.1.3.1 in /usr/local/lib/python3.10/dist-packages (from torch->clip==1.0) (12.1.3.1)\n",
            "Requirement already satisfied: nvidia-cufft-cu12==11.0.2.54 in /usr/local/lib/python3.10/dist-packages (from torch->clip==1.0) (11.0.2.54)\n",
            "Requirement already satisfied: nvidia-curand-cu12==10.3.2.106 in /usr/local/lib/python3.10/dist-packages (from torch->clip==1.0) (10.3.2.106)\n",
            "Requirement already satisfied: nvidia-cusolver-cu12==11.4.5.107 in /usr/local/lib/python3.10/dist-packages (from torch->clip==1.0) (11.4.5.107)\n",
            "Requirement already satisfied: nvidia-cusparse-cu12==12.1.0.106 in /usr/local/lib/python3.10/dist-packages (from torch->clip==1.0) (12.1.0.106)\n",
            "Requirement already satisfied: nvidia-nccl-cu12==2.20.5 in /usr/local/lib/python3.10/dist-packages (from torch->clip==1.0) (2.20.5)\n",
            "Requirement already satisfied: nvidia-nvtx-cu12==12.1.105 in /usr/local/lib/python3.10/dist-packages (from torch->clip==1.0) (12.1.105)\n",
            "Requirement already satisfied: triton==2.3.0 in /usr/local/lib/python3.10/dist-packages (from torch->clip==1.0) (2.3.0)\n",
            "Requirement already satisfied: nvidia-nvjitlink-cu12 in /usr/local/lib/python3.10/dist-packages (from nvidia-cusolver-cu12==11.4.5.107->torch->clip==1.0) (12.5.40)\n",
            "Requirement already satisfied: numpy in /usr/local/lib/python3.10/dist-packages (from torchvision->clip==1.0) (1.25.2)\n",
            "Requirement already satisfied: pillow!=8.3.*,>=5.3.0 in /usr/local/lib/python3.10/dist-packages (from torchvision->clip==1.0) (9.4.0)\n",
            "Requirement already satisfied: MarkupSafe>=2.0 in /usr/local/lib/python3.10/dist-packages (from jinja2->torch->clip==1.0) (2.1.5)\n",
            "Requirement already satisfied: mpmath<1.4.0,>=1.1.0 in /usr/local/lib/python3.10/dist-packages (from sympy->torch->clip==1.0) (1.3.0)\n"
          ]
        }
      ]
    },
    {
      "cell_type": "markdown",
      "metadata": {
        "id": "e7d620f6"
      },
      "source": [
        "## 2. División del vídeo en frames"
      ]
    },
    {
      "cell_type": "markdown",
      "source": [
        "A continuación, debemos dividr el vídeo en un conjunto de imágenes fíjas que pueda editar la Red Neuronal Artificial y después volver a componer en forma de un vídeo nuevo.\n",
        "\n",
        "El vídeo que yo he creado tiene una duración de 7 segundos y 30 fps."
      ],
      "metadata": {
        "id": "-UggAevpSiJt"
      }
    },
    {
      "cell_type": "code",
      "source": [
        "!ffmpeg -i \"/content/drive/MyDrive/dataset/STIT/IMG_0138.mov\" -vf \"scale=720:-1\" \"/content/drive/MyDrive/dataset/STIT/silvana_frames/out%04d.png\""
      ],
      "metadata": {
        "id": "zR_poUNfjq7t",
        "outputId": "cfc20492-c752-43af-d5b9-3bb463044409",
        "colab": {
          "base_uri": "https://localhost:8080/"
        }
      },
      "execution_count": 21,
      "outputs": [
        {
          "output_type": "stream",
          "name": "stdout",
          "text": [
            "ffmpeg version 4.4.2-0ubuntu0.22.04.1 Copyright (c) 2000-2021 the FFmpeg developers\n",
            "  built with gcc 11 (Ubuntu 11.2.0-19ubuntu1)\n",
            "  configuration: --prefix=/usr --extra-version=0ubuntu0.22.04.1 --toolchain=hardened --libdir=/usr/lib/x86_64-linux-gnu --incdir=/usr/include/x86_64-linux-gnu --arch=amd64 --enable-gpl --disable-stripping --enable-gnutls --enable-ladspa --enable-libaom --enable-libass --enable-libbluray --enable-libbs2b --enable-libcaca --enable-libcdio --enable-libcodec2 --enable-libdav1d --enable-libflite --enable-libfontconfig --enable-libfreetype --enable-libfribidi --enable-libgme --enable-libgsm --enable-libjack --enable-libmp3lame --enable-libmysofa --enable-libopenjpeg --enable-libopenmpt --enable-libopus --enable-libpulse --enable-librabbitmq --enable-librubberband --enable-libshine --enable-libsnappy --enable-libsoxr --enable-libspeex --enable-libsrt --enable-libssh --enable-libtheora --enable-libtwolame --enable-libvidstab --enable-libvorbis --enable-libvpx --enable-libwebp --enable-libx265 --enable-libxml2 --enable-libxvid --enable-libzimg --enable-libzmq --enable-libzvbi --enable-lv2 --enable-omx --enable-openal --enable-opencl --enable-opengl --enable-sdl2 --enable-pocketsphinx --enable-librsvg --enable-libmfx --enable-libdc1394 --enable-libdrm --enable-libiec61883 --enable-chromaprint --enable-frei0r --enable-libx264 --enable-shared\n",
            "  libavutil      56. 70.100 / 56. 70.100\n",
            "  libavcodec     58.134.100 / 58.134.100\n",
            "  libavformat    58. 76.100 / 58. 76.100\n",
            "  libavdevice    58. 13.100 / 58. 13.100\n",
            "  libavfilter     7.110.100 /  7.110.100\n",
            "  libswscale      5.  9.100 /  5.  9.100\n",
            "  libswresample   3.  9.100 /  3.  9.100\n",
            "  libpostproc    55.  9.100 / 55.  9.100\n",
            "Input #0, mov,mp4,m4a,3gp,3g2,mj2, from '/content/drive/MyDrive/dataset/STIT/IMG_0138.mov':\n",
            "  Metadata:\n",
            "    major_brand     : qt  \n",
            "    minor_version   : 0\n",
            "    compatible_brands: qt  \n",
            "    creation_time   : 2024-06-19T18:21:16.000000Z\n",
            "    com.apple.quicktime.location.accuracy.horizontal: 35.000000\n",
            "    com.apple.quicktime.location.ISO6709: +06.1995-075.5622+1658.425/\n",
            "    com.apple.quicktime.make: Apple\n",
            "    com.apple.quicktime.model: iPhone 11 Pro Max\n",
            "    com.apple.quicktime.software: 17.4.1\n",
            "    com.apple.quicktime.creationdate: 2024-05-31T16:33:28-0500\n",
            "    com.apple.photos.originating.signature: AW6qGPQDbp6xKZz5HVa+38Ys6p5r\n",
            "  Duration: 00:00:03.79, start: 0.000000, bitrate: 13373 kb/s\n",
            "  Stream #0:0(und): Audio: aac (LC) (mp4a / 0x6134706D), 44100 Hz, stereo, fltp, 186 kb/s (default)\n",
            "    Metadata:\n",
            "      creation_time   : 2024-06-19T18:21:16.000000Z\n",
            "      handler_name    : Core Media Audio\n",
            "      vendor_id       : [0][0][0][0]\n",
            "  Stream #0:1(und): Video: h264 (High) (avc1 / 0x31637661), yuv420p(tv, bt709), 1920x1080, 13152 kb/s, 24 fps, 24 tbr, 600 tbn, 1200 tbc (default)\n",
            "    Metadata:\n",
            "      rotate          : 90\n",
            "      creation_time   : 2024-06-19T18:21:16.000000Z\n",
            "      handler_name    : Core Media Video\n",
            "      vendor_id       : [0][0][0][0]\n",
            "      encoder         : H.264\n",
            "    Side data:\n",
            "      displaymatrix: rotation of -90.00 degrees\n",
            "  Stream #0:2(und): Data: none (mebx / 0x7862656D), 0 kb/s (default)\n",
            "    Metadata:\n",
            "      creation_time   : 2024-06-19T18:21:16.000000Z\n",
            "      handler_name    : Core Media Metadata\n",
            "  Stream #0:3(und): Data: none (mebx / 0x7862656D), 19 kb/s (default)\n",
            "    Metadata:\n",
            "      creation_time   : 2024-06-19T18:21:16.000000Z\n",
            "      handler_name    : Core Media Metadata\n",
            "Stream mapping:\n",
            "  Stream #0:1 -> #0:0 (h264 (native) -> png (native))\n",
            "Press [q] to stop, [?] for help\n",
            "Output #0, image2, to '/content/drive/MyDrive/dataset/STIT/silvana_frames/out%04d.png':\n",
            "  Metadata:\n",
            "    major_brand     : qt  \n",
            "    minor_version   : 0\n",
            "    compatible_brands: qt  \n",
            "    com.apple.photos.originating.signature: AW6qGPQDbp6xKZz5HVa+38Ys6p5r\n",
            "    com.apple.quicktime.location.accuracy.horizontal: 35.000000\n",
            "    com.apple.quicktime.location.ISO6709: +06.1995-075.5622+1658.425/\n",
            "    com.apple.quicktime.make: Apple\n",
            "    com.apple.quicktime.model: iPhone 11 Pro Max\n",
            "    com.apple.quicktime.software: 17.4.1\n",
            "    com.apple.quicktime.creationdate: 2024-05-31T16:33:28-0500\n",
            "    encoder         : Lavf58.76.100\n",
            "  Stream #0:0(und): Video: png, rgb24(pc, gbr/bt709/bt709, progressive), 720x1280, q=2-31, 200 kb/s, 24 fps, 24 tbn (default)\n",
            "    Metadata:\n",
            "      encoder         : Lavc58.134.100 png\n",
            "      creation_time   : 2024-06-19T18:21:16.000000Z\n",
            "      handler_name    : Core Media Video\n",
            "      vendor_id       : [0][0][0][0]\n",
            "    Side data:\n",
            "      displaymatrix: rotation of -0.00 degrees\n",
            "frame=   91 fps= 12 q=-0.0 Lsize=N/A time=00:00:03.79 bitrate=N/A speed=0.497x    \n",
            "video:69726kB audio:0kB subtitle:0kB other streams:0kB global headers:0kB muxing overhead: unknown\n"
          ]
        }
      ]
    },
    {
      "cell_type": "markdown",
      "source": [
        "## 2. Fine-tuning del modelo"
      ],
      "metadata": {
        "id": "kjNFCLMHWCXs"
      }
    },
    {
      "cell_type": "markdown",
      "source": [
        "El entrenamiento de las Generative Adversarial Networks es un proceso extremadamente costoso y que requiere grandes recursos computacionales.\n",
        "\n",
        "Por este motivo, vamos a aplicar la técnica de re-entrenamiento (fine-tuning) que hemos presentado en secciones anteriores.\n",
        "\n",
        "En este caso el fine-tuning lo aplicamos sobre un modelo base ya entrenado con caras de personas."
      ],
      "metadata": {
        "id": "OP3Zs5O1WHER"
      }
    },
    {
      "cell_type": "code",
      "source": [
        "!python /content/drive/MyDrive/dataset/STIT/train.py --input_folder /content/drive/MyDrive/dataset/STIT/silvana_frames \\\n",
        " --output_folder /content/drive/MyDrive/dataset/STIT/silvana/train_results \\\n",
        " --run_name silvana \\\n",
        " --num_pti_steps 3"
      ],
      "metadata": {
        "id": "dkxOGRD-WF3p",
        "outputId": "349c84e5-1092-4276-b44b-a88670c48f80",
        "colab": {
          "base_uri": "https://localhost:8080/"
        }
      },
      "execution_count": 22,
      "outputs": [
        {
          "output_type": "stream",
          "name": "stdout",
          "text": [
            "Number of images: 91\n",
            "Aligning images\n",
            "100% 91/91 [00:15<00:00,  5.86it/s]\n",
            "100% 91/91 [00:05<00:00, 17.60it/s]\n",
            "Aligning completed\n",
            "Loading e4e over the pSp framework from checkpoint: /content/drive/MyDrive/dataset/STIT/pretrained_models/e4e_ffhq_encode.pt\n",
            "Setting up [LPIPS] perceptual loss: trunk [alex], v[0.1], spatial [off]\n",
            "/usr/local/lib/python3.10/dist-packages/torchvision/models/_utils.py:208: UserWarning: The parameter 'pretrained' is deprecated since 0.13 and may be removed in the future, please use 'weights' instead.\n",
            "  warnings.warn(\n",
            "/usr/local/lib/python3.10/dist-packages/torchvision/models/_utils.py:223: UserWarning: Arguments other than a weight enum or `None` for 'weights' are deprecated since 0.13 and may be removed in the future. The current behavior is equivalent to passing `weights=AlexNet_Weights.IMAGENET1K_V1`. You can also use `weights=AlexNet_Weights.DEFAULT` to get the most up-to-date weights.\n",
            "  warnings.warn(msg)\n",
            "Downloading: \"https://download.pytorch.org/models/alexnet-owt-7be5be79.pth\" to /root/.cache/torch/hub/checkpoints/alexnet-owt-7be5be79.pth\n",
            "100% 233M/233M [00:01<00:00, 181MB/s]\n",
            "Loading model from: /usr/local/lib/python3.10/dist-packages/lpips/weights/v0.1/alex.pth\n",
            "Calculating initial inversions\n",
            "100% 91/91 [00:12<00:00,  7.03it/s]\n",
            "Fine tuning generator\n",
            "  0% 0/3 [00:00<?, ?it/s]Setting up PyTorch plugin \"bias_act_plugin\"... /usr/local/lib/python3.10/dist-packages/torch/utils/cpp_extension.py:1967: UserWarning: TORCH_CUDA_ARCH_LIST is not set, all archs for visible cards are included for compilation. \n",
            "If this is not desired, please set os.environ['TORCH_CUDA_ARCH_LIST'].\n",
            "  warnings.warn(\n",
            "Done.\n",
            "Setting up PyTorch plugin \"upfirdn2d_plugin\"... /usr/local/lib/python3.10/dist-packages/torch/utils/cpp_extension.py:1967: UserWarning: TORCH_CUDA_ARCH_LIST is not set, all archs for visible cards are included for compilation. \n",
            "If this is not desired, please set os.environ['TORCH_CUDA_ARCH_LIST'].\n",
            "  warnings.warn(\n",
            "Done.\n",
            "100% 3/3 [02:12<00:00, 44.12s/it]\n",
            "Finished training\n",
            "100% 91/91 [00:35<00:00,  2.53it/s]\n"
          ]
        }
      ]
    },
    {
      "cell_type": "markdown",
      "source": [
        "## 3. Generación/Modificación del vídeo"
      ],
      "metadata": {
        "id": "Ej2wP15VXrPY"
      }
    },
    {
      "cell_type": "markdown",
      "source": [
        "LLegados a este punto ya tenemos todo listo para utilizar nuestra Red Neuronal Artificial con Fine-tuning para realizar la modificación del vídeo."
      ],
      "metadata": {
        "id": "za_9VJf0TkHk"
      }
    },
    {
      "cell_type": "code",
      "source": [
        "# Generación de un vídeo donde modifica la edad\n",
        "!python /content/drive/MyDrive/dataset/STIT/edit_video.py --input_folder /content/drive/MyDrive/dataset/STIT/silvana_frames \\\n",
        " --output_folder /content/drive/MyDrive/dataset/STIT/edits/silvana_joven \\\n",
        " --run_name silvana \\\n",
        " --edit_name age \\\n",
        " --edit_range 8 8 1"
      ],
      "metadata": {
        "id": "Lrw-S4VgXxBo",
        "outputId": "bfb82e5a-fac6-49af-dce6-ee58747799ca",
        "colab": {
          "base_uri": "https://localhost:8080/"
        }
      },
      "execution_count": 23,
      "outputs": [
        {
          "output_type": "stream",
          "name": "stdout",
          "text": [
            "100% 91/91 [00:05<00:00, 17.63it/s]\n",
            "  0% 0/91 [00:00<?, ?it/s]Setting up PyTorch plugin \"bias_act_plugin\"... /usr/local/lib/python3.10/dist-packages/torch/utils/cpp_extension.py:1967: UserWarning: TORCH_CUDA_ARCH_LIST is not set, all archs for visible cards are included for compilation. \n",
            "If this is not desired, please set os.environ['TORCH_CUDA_ARCH_LIST'].\n",
            "  warnings.warn(\n",
            "Done.\n",
            "Setting up PyTorch plugin \"upfirdn2d_plugin\"... /usr/local/lib/python3.10/dist-packages/torch/utils/cpp_extension.py:1967: UserWarning: TORCH_CUDA_ARCH_LIST is not set, all archs for visible cards are included for compilation. \n",
            "If this is not desired, please set os.environ['TORCH_CUDA_ARCH_LIST'].\n",
            "  warnings.warn(\n",
            "Done.\n",
            "100% 91/91 [00:27<00:00,  3.26it/s]\n"
          ]
        }
      ]
    },
    {
      "cell_type": "code",
      "source": [
        "# Generación de un vídeo donde elimina la sonrisa\n",
        "!python /content/drive/MyDrive/dataset/STIT/edit_video_stitching_tuning.py --input_folder /content/drive/MyDrive/dataset/STIT/video_frames \\\n",
        " --output_folder /content/drive/MyDrive/dataset/STIT/edits/silvana_viejo \\\n",
        " --run_name silvana \\\n",
        " --edit_name smile \\\n",
        " --edit_range -3 -3 1 \\\n",
        " --outer_mask_dilation 50"
      ],
      "metadata": {
        "id": "XistqClIZABM"
      },
      "execution_count": null,
      "outputs": []
    }
  ]
}